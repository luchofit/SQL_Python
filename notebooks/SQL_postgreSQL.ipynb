{
 "cells": [
  {
   "cell_type": "markdown",
   "metadata": {},
   "source": [
    "# PASO A PASO\n",
    "1. Importar librerías"
   ]
  },
  {
   "cell_type": "code",
   "execution_count": 1,
   "metadata": {},
   "outputs": [],
   "source": [
    "import psycopg2\n",
    "import psycopg2.extras\n",
    "#connection = None\n",
    "#cursor = None"
   ]
  },
  {
   "cell_type": "markdown",
   "metadata": {},
   "source": [
    "2. Generar conexión"
   ]
  },
  {
   "cell_type": "code",
   "execution_count": 2,
   "metadata": {},
   "outputs": [],
   "source": [
    "connection = psycopg2.connect(\n",
    "        host= 'localhost',\n",
    "        dbname = \"proyectoX\",\n",
    "        user= \"postgres\" ,\n",
    "        password = 'PRUEBA123',\n",
    "        port = 5433)"
   ]
  },
  {
   "cell_type": "markdown",
   "metadata": {},
   "source": [
    "3. Generar consultas sql\n",
    "- ¿Total de ventas que se hicieron en mayo y junio para los años 2021 y 2022 en la tabla customers?\n",
    "## Solución con SQL"
   ]
  },
  {
   "cell_type": "code",
   "execution_count": 5,
   "metadata": {},
   "outputs": [],
   "source": [
    "statement = \"\"\"Select * FROM(SELECT CAST(SUM(price::numeric::int * quantity) as money) AS total_sales,\n",
    "\tDATE_PART('MONTH', fecha) as month_date,\n",
    "\tDATE_PART('YEAR', fecha)as year_date \n",
    "\tFROM customers\n",
    "\tGROUP BY month_date,year_date) as date_table\n",
    "    WHERE month_date IN ('5','6') and\n",
    "    year_date  IN ('2022','2021')\"\"\""
   ]
  },
  {
   "cell_type": "code",
   "execution_count": 6,
   "metadata": {},
   "outputs": [
    {
     "name": "stdout",
     "output_type": "stream",
     "text": [
      "['$ 52.602,00', 5.0, 2022.0]\n",
      "['$ 148.334,00', 6.0, 2022.0]\n"
     ]
    }
   ],
   "source": [
    "cursor = connection.cursor(cursor_factory=psycopg2.extras.DictCursor) #retorna el cursor no como tupla sino como diccionario\n",
    "cursor.execute(statement)\n",
    "rows = cursor.fetchall()\n",
    "for row in rows:\n",
    "    print(row)"
   ]
  },
  {
   "cell_type": "markdown",
   "metadata": {},
   "source": [
    "2. ¿Cuales son los datos duplicados en la tabla customers?\n",
    "## Solución con SQL"
   ]
  },
  {
   "cell_type": "code",
   "execution_count": 3,
   "metadata": {},
   "outputs": [],
   "source": [
    "statement_2 = \"\"\" \n",
    "SELECT *\n",
    "FROM (\n",
    "\tSELECT  *,id,\n",
    "\tROW_NUMBER() OVER(\n",
    "\tPARTITION BY\n",
    "\t\tfirst_name,\n",
    "\t\tlast_name,\n",
    "\t\temail,\n",
    "\t\tgender,\n",
    "\t\tproduct,\n",
    "\t\tquantity,\n",
    "\t\tfecha\n",
    "\tORDER BY id ASC) as row\n",
    "\tFROM customers)AS duplicados\n",
    "WHERE duplicados.row > 1;\n",
    "\"\"\"\"\""
   ]
  },
  {
   "cell_type": "code",
   "execution_count": 4,
   "metadata": {},
   "outputs": [
    {
     "name": "stdout",
     "output_type": "stream",
     "text": [
      "[103, 'Whit', 'Hayball', 'whayball0@spotify.com', 'Male', 'Wine-Red,Antinori Santa', '$ 899,00', 1, datetime.datetime(2022, 8, 9, 0, 0), 103, 2]\n"
     ]
    }
   ],
   "source": [
    "cursor = connection.cursor(cursor_factory=psycopg2.extras.DictCursor) #retorna el cursor no como tupla sino como diccionario\n",
    "cursor.execute(statement_2)\n",
    "rows = cursor.fetchall()\n",
    "for row in rows:\n",
    "    print(row)"
   ]
  },
  {
   "cell_type": "markdown",
   "metadata": {},
   "source": [
    "3.  ¿Muestreme las incoherencias de las columnas product entre las tablas customers y product?"
   ]
  },
  {
   "cell_type": "code",
   "execution_count": 21,
   "metadata": {},
   "outputs": [],
   "source": [
    "statement_3 = \"\"\"\n",
    "SELECT \n",
    "    customers.product product_table_1,\n",
    "\tproduct.product as product_table_2\n",
    "FROM customers\n",
    "LEFT JOIN product ON\n",
    "\tcustomers.product = product.product\n",
    "WHERE product.product is not null\"\"\""
   ]
  },
  {
   "cell_type": "code",
   "execution_count": 22,
   "metadata": {},
   "outputs": [
    {
     "name": "stdout",
     "output_type": "stream",
     "text": [
      "['Ecolab Silver Fusion', 'Ecolab Silver Fusion']\n",
      "['Flour - Masa De Harina Mexican', 'Flour - Masa De Harina Mexican']\n",
      "['Stock - Veal, Brown', 'Stock - Veal, Brown']\n",
      "['Salsify, Organic', 'Salsify, Organic']\n"
     ]
    }
   ],
   "source": [
    "cursor = connection.cursor(cursor_factory=psycopg2.extras.DictCursor) #retorna el cursor no como tupla sino como diccionario\n",
    "cursor.execute(statement_3)\n",
    "rows = cursor.fetchall()\n",
    "for row in rows:\n",
    "    print(row)"
   ]
  }
 ],
 "metadata": {
  "kernelspec": {
   "display_name": "Python 3.10.0 64-bit",
   "language": "python",
   "name": "python3"
  },
  "language_info": {
   "codemirror_mode": {
    "name": "ipython",
    "version": 3
   },
   "file_extension": ".py",
   "mimetype": "text/x-python",
   "name": "python",
   "nbconvert_exporter": "python",
   "pygments_lexer": "ipython3",
   "version": "3.10.0"
  },
  "orig_nbformat": 4,
  "vscode": {
   "interpreter": {
    "hash": "09cc8b7a95ccbf132467e550e87cbc92ad72620a005b419e71ec2c5180e48518"
   }
  }
 },
 "nbformat": 4,
 "nbformat_minor": 2
}
