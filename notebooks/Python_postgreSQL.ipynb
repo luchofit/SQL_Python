{
 "cells": [
  {
   "cell_type": "markdown",
   "metadata": {},
   "source": [
    "# PASO A PASO\n",
    "1. Importar librerías"
   ]
  },
  {
   "cell_type": "code",
   "execution_count": 1,
   "metadata": {},
   "outputs": [],
   "source": [
    "import psycopg2\n",
    "import psycopg2.extras\n",
    "#connection = None\n",
    "#cursor = None"
   ]
  },
  {
   "cell_type": "markdown",
   "metadata": {},
   "source": [
    "2. Generar conexión"
   ]
  },
  {
   "cell_type": "code",
   "execution_count": 2,
   "metadata": {},
   "outputs": [],
   "source": [
    "connection = psycopg2.connect(\n",
    "        host= 'localhost',\n",
    "        dbname = \"proyectoX\",\n",
    "        user= \"postgres\" ,\n",
    "        password = 'PRUEBA123',\n",
    "        port = 5433)"
   ]
  },
  {
   "cell_type": "markdown",
   "metadata": {},
   "source": [
    "3. Generar consultas python\n",
    "- ¿Total de ventas que se hicieron en mayo y junio para los años 2021 y 2022 en la tabla customers?\n",
    "## Solución con Python"
   ]
  },
  {
   "cell_type": "code",
   "execution_count": 3,
   "metadata": {},
   "outputs": [],
   "source": [
    "#Selecciono toda mi tabla para después ponerla en un df\n",
    "Statement = \"SELECT * FROM customers\""
   ]
  },
  {
   "cell_type": "code",
   "execution_count": 4,
   "metadata": {},
   "outputs": [
    {
     "name": "stdout",
     "output_type": "stream",
     "text": [
      "<class 'list'>\n"
     ]
    }
   ],
   "source": [
    "cursor = connection.cursor(cursor_factory=psycopg2.extras.DictCursor)\n",
    "cursor.execute(Statement)\n",
    "df = cursor.fetchall()\n",
    "print(type(df))"
   ]
  },
  {
   "cell_type": "code",
   "execution_count": 5,
   "metadata": {},
   "outputs": [
    {
     "name": "stdout",
     "output_type": "stream",
     "text": [
      "<class 'pandas.core.frame.DataFrame'>\n",
      "RangeIndex: 101 entries, 0 to 100\n",
      "Data columns (total 9 columns):\n",
      " #   Column      Non-Null Count  Dtype         \n",
      "---  ------      --------------  -----         \n",
      " 0   id          101 non-null    int64         \n",
      " 1   first_name  101 non-null    object        \n",
      " 2   Last_name   101 non-null    object        \n",
      " 3   email       101 non-null    object        \n",
      " 4   gender      101 non-null    object        \n",
      " 5   product     101 non-null    object        \n",
      " 6   price       101 non-null    object        \n",
      " 7   quantity    101 non-null    int64         \n",
      " 8   fecha       101 non-null    datetime64[ns]\n",
      "dtypes: datetime64[ns](1), int64(2), object(6)\n",
      "memory usage: 7.2+ KB\n"
     ]
    }
   ],
   "source": [
    "#Creo mi df y le cambio el nombre a las columnas\n",
    "import pandas as pd\n",
    "df = pd.DataFrame(df)\n",
    "df.columns =[\"id\",\"first_name\",\"Last_name\",\"email\",\"gender\",\"product\",\"price\",\"quantity\",\"fecha\"]\n",
    "df.info()"
   ]
  },
  {
   "cell_type": "code",
   "execution_count": 6,
   "metadata": {},
   "outputs": [],
   "source": [
    "#paso a float los datos de la columna price que estaban en moneda\n",
    "df[\"price\"] = [i.replace(\",\",\".\") for i in df[\"price\"]]\n",
    "df[\"price\"] = [i.replace(\"$\",\"\") for i in df[\"price\"]]\n",
    "df[\"price\"] = [float(i) for i in df[\"price\"]]\n",
    "\n"
   ]
  },
  {
   "cell_type": "code",
   "execution_count": 7,
   "metadata": {},
   "outputs": [],
   "source": [
    "# paso a enteros los datos de la col quantity\n",
    "df[\"quantity\"] = [int(i) for i in df[\"quantity\"]]"
   ]
  },
  {
   "cell_type": "code",
   "execution_count": 8,
   "metadata": {},
   "outputs": [],
   "source": [
    "# creo una nueva col de ventas a partir de la columna quantity * price\n",
    "df[\"ventas\"] = df[\"quantity\"]* df[\"price\"]"
   ]
  },
  {
   "cell_type": "code",
   "execution_count": 9,
   "metadata": {},
   "outputs": [
    {
     "data": {
      "text/html": [
       "<div>\n",
       "<style scoped>\n",
       "    .dataframe tbody tr th:only-of-type {\n",
       "        vertical-align: middle;\n",
       "    }\n",
       "\n",
       "    .dataframe tbody tr th {\n",
       "        vertical-align: top;\n",
       "    }\n",
       "\n",
       "    .dataframe thead th {\n",
       "        text-align: right;\n",
       "    }\n",
       "</style>\n",
       "<table border=\"1\" class=\"dataframe\">\n",
       "  <thead>\n",
       "    <tr style=\"text-align: right;\">\n",
       "      <th></th>\n",
       "      <th>id</th>\n",
       "      <th>first_name</th>\n",
       "      <th>Last_name</th>\n",
       "      <th>email</th>\n",
       "      <th>gender</th>\n",
       "      <th>product</th>\n",
       "      <th>price</th>\n",
       "      <th>quantity</th>\n",
       "      <th>fecha</th>\n",
       "      <th>ventas</th>\n",
       "      <th>mes</th>\n",
       "      <th>ano</th>\n",
       "    </tr>\n",
       "  </thead>\n",
       "  <tbody>\n",
       "    <tr>\n",
       "      <th>0</th>\n",
       "      <td>2</td>\n",
       "      <td>Magda</td>\n",
       "      <td>Ascough</td>\n",
       "      <td>mascough1@noaa.gov</td>\n",
       "      <td>Female</td>\n",
       "      <td>Longos - Chicken Cordon Bleu</td>\n",
       "      <td>721.0</td>\n",
       "      <td>2</td>\n",
       "      <td>2022-05-05</td>\n",
       "      <td>1442.0</td>\n",
       "      <td>5</td>\n",
       "      <td>2022</td>\n",
       "    </tr>\n",
       "    <tr>\n",
       "      <th>1</th>\n",
       "      <td>3</td>\n",
       "      <td>Alexander</td>\n",
       "      <td>Marchington</td>\n",
       "      <td>amarchington2@alibaba.com</td>\n",
       "      <td>Male</td>\n",
       "      <td>Kellogs All Bran Bars</td>\n",
       "      <td>432.0</td>\n",
       "      <td>3</td>\n",
       "      <td>2022-05-07</td>\n",
       "      <td>1296.0</td>\n",
       "      <td>5</td>\n",
       "      <td>2022</td>\n",
       "    </tr>\n",
       "    <tr>\n",
       "      <th>8</th>\n",
       "      <td>10</td>\n",
       "      <td>Jacquette</td>\n",
       "      <td>Drewett</td>\n",
       "      <td>jdrewett9@weebly.com</td>\n",
       "      <td>Female</td>\n",
       "      <td>Cheese - Bakers Cream Cheese</td>\n",
       "      <td>998.0</td>\n",
       "      <td>10</td>\n",
       "      <td>2022-05-23</td>\n",
       "      <td>9980.0</td>\n",
       "      <td>5</td>\n",
       "      <td>2022</td>\n",
       "    </tr>\n",
       "    <tr>\n",
       "      <th>23</th>\n",
       "      <td>25</td>\n",
       "      <td>Llewellyn</td>\n",
       "      <td>Janes</td>\n",
       "      <td>ljaneso@purevolume.com</td>\n",
       "      <td>Male</td>\n",
       "      <td>Vermouth - Sweet, Cinzano</td>\n",
       "      <td>290.0</td>\n",
       "      <td>25</td>\n",
       "      <td>2022-06-23</td>\n",
       "      <td>7250.0</td>\n",
       "      <td>6</td>\n",
       "      <td>2022</td>\n",
       "    </tr>\n",
       "    <tr>\n",
       "      <th>44</th>\n",
       "      <td>46</td>\n",
       "      <td>Robin</td>\n",
       "      <td>Jagiello</td>\n",
       "      <td>rjagiello19@ed.gov</td>\n",
       "      <td>Bigender</td>\n",
       "      <td>Beans - Kidney, Red Dry</td>\n",
       "      <td>856.0</td>\n",
       "      <td>46</td>\n",
       "      <td>2022-06-26</td>\n",
       "      <td>39376.0</td>\n",
       "      <td>6</td>\n",
       "      <td>2022</td>\n",
       "    </tr>\n",
       "    <tr>\n",
       "      <th>45</th>\n",
       "      <td>47</td>\n",
       "      <td>Maritsa</td>\n",
       "      <td>Kettlewell</td>\n",
       "      <td>mkettlewell1a@discovery.com</td>\n",
       "      <td>Female</td>\n",
       "      <td>Cucumber - Pickling Ontario</td>\n",
       "      <td>843.0</td>\n",
       "      <td>47</td>\n",
       "      <td>2022-06-24</td>\n",
       "      <td>39621.0</td>\n",
       "      <td>6</td>\n",
       "      <td>2022</td>\n",
       "    </tr>\n",
       "    <tr>\n",
       "      <th>50</th>\n",
       "      <td>52</td>\n",
       "      <td>Roxana</td>\n",
       "      <td>Ternent</td>\n",
       "      <td>rternent1f@home.pl</td>\n",
       "      <td>Female</td>\n",
       "      <td>Breadfruit</td>\n",
       "      <td>347.0</td>\n",
       "      <td>52</td>\n",
       "      <td>2022-06-14</td>\n",
       "      <td>18044.0</td>\n",
       "      <td>6</td>\n",
       "      <td>2022</td>\n",
       "    </tr>\n",
       "    <tr>\n",
       "      <th>51</th>\n",
       "      <td>53</td>\n",
       "      <td>Cecile</td>\n",
       "      <td>Boag</td>\n",
       "      <td>cboag1g@tuttocitta.it</td>\n",
       "      <td>Female</td>\n",
       "      <td>Squash - Pattypan, Yellow</td>\n",
       "      <td>500.0</td>\n",
       "      <td>53</td>\n",
       "      <td>2022-05-16</td>\n",
       "      <td>26500.0</td>\n",
       "      <td>5</td>\n",
       "      <td>2022</td>\n",
       "    </tr>\n",
       "    <tr>\n",
       "      <th>54</th>\n",
       "      <td>56</td>\n",
       "      <td>Stevy</td>\n",
       "      <td>Dietsche</td>\n",
       "      <td>sdietsche1j@bloglines.com</td>\n",
       "      <td>Male</td>\n",
       "      <td>Arctic Char - Fresh, Whole</td>\n",
       "      <td>239.0</td>\n",
       "      <td>56</td>\n",
       "      <td>2022-05-09</td>\n",
       "      <td>13384.0</td>\n",
       "      <td>5</td>\n",
       "      <td>2022</td>\n",
       "    </tr>\n",
       "    <tr>\n",
       "      <th>70</th>\n",
       "      <td>72</td>\n",
       "      <td>Tish</td>\n",
       "      <td>Biskupiak</td>\n",
       "      <td>tbiskupiak1z@about.com</td>\n",
       "      <td>Female</td>\n",
       "      <td>Assorted Desserts</td>\n",
       "      <td>394.0</td>\n",
       "      <td>72</td>\n",
       "      <td>2022-06-10</td>\n",
       "      <td>28368.0</td>\n",
       "      <td>6</td>\n",
       "      <td>2022</td>\n",
       "    </tr>\n",
       "  </tbody>\n",
       "</table>\n",
       "</div>"
      ],
      "text/plain": [
       "    id first_name    Last_name                        email    gender  \\\n",
       "0    2      Magda      Ascough           mascough1@noaa.gov    Female   \n",
       "1    3  Alexander  Marchington    amarchington2@alibaba.com      Male   \n",
       "8   10  Jacquette      Drewett         jdrewett9@weebly.com    Female   \n",
       "23  25  Llewellyn        Janes       ljaneso@purevolume.com      Male   \n",
       "44  46      Robin     Jagiello           rjagiello19@ed.gov  Bigender   \n",
       "45  47    Maritsa   Kettlewell  mkettlewell1a@discovery.com    Female   \n",
       "50  52     Roxana      Ternent           rternent1f@home.pl    Female   \n",
       "51  53     Cecile         Boag        cboag1g@tuttocitta.it    Female   \n",
       "54  56      Stevy     Dietsche    sdietsche1j@bloglines.com      Male   \n",
       "70  72       Tish    Biskupiak       tbiskupiak1z@about.com    Female   \n",
       "\n",
       "                         product  price  quantity      fecha   ventas  mes  \\\n",
       "0   Longos - Chicken Cordon Bleu  721.0         2 2022-05-05   1442.0    5   \n",
       "1          Kellogs All Bran Bars  432.0         3 2022-05-07   1296.0    5   \n",
       "8   Cheese - Bakers Cream Cheese  998.0        10 2022-05-23   9980.0    5   \n",
       "23     Vermouth - Sweet, Cinzano  290.0        25 2022-06-23   7250.0    6   \n",
       "44       Beans - Kidney, Red Dry  856.0        46 2022-06-26  39376.0    6   \n",
       "45   Cucumber - Pickling Ontario  843.0        47 2022-06-24  39621.0    6   \n",
       "50                    Breadfruit  347.0        52 2022-06-14  18044.0    6   \n",
       "51     Squash - Pattypan, Yellow  500.0        53 2022-05-16  26500.0    5   \n",
       "54    Arctic Char - Fresh, Whole  239.0        56 2022-05-09  13384.0    5   \n",
       "70             Assorted Desserts  394.0        72 2022-06-10  28368.0    6   \n",
       "\n",
       "     ano  \n",
       "0   2022  \n",
       "1   2022  \n",
       "8   2022  \n",
       "23  2022  \n",
       "44  2022  \n",
       "45  2022  \n",
       "50  2022  \n",
       "51  2022  \n",
       "54  2022  \n",
       "70  2022  "
      ]
     },
     "execution_count": 9,
     "metadata": {},
     "output_type": "execute_result"
    }
   ],
   "source": [
    "# creo un nuevo df llamado filtered_df en donde filtro por el mes 5,6 y el año 2021 y 2022 \n",
    "import datetime\n",
    "\n",
    "df[\"mes\"] = df[\"fecha\"].dt.month\n",
    "df[\"ano\"] = df[\"fecha\"].dt.year\n",
    "filtered_df = df[df[\"mes\"].isin([5,6]) &df[\"ano\"].isin([2021,2022])]\n",
    "filtered_df.head(10)"
   ]
  },
  {
   "cell_type": "code",
   "execution_count": 10,
   "metadata": {},
   "outputs": [
    {
     "data": {
      "text/plain": [
       "mes  ano \n",
       "5    2022     52602.0\n",
       "6    2022    148334.0\n",
       "Name: ventas, dtype: float64"
      ]
     },
     "execution_count": 10,
     "metadata": {},
     "output_type": "execute_result"
    }
   ],
   "source": [
    "# con el df filtered_df agrupo los valores de mes y ano segun las sum de las ventas\n",
    "answer = filtered_df[\"ventas\"].groupby([filtered_df[\"mes\"],filtered_df[\"ano\"]]).sum()\n",
    "answer"
   ]
  },
  {
   "cell_type": "markdown",
   "metadata": {},
   "source": [
    "2. ¿Cuales son los datos duplicados en la tabla customers?\n",
    "## Solución con Python"
   ]
  },
  {
   "cell_type": "code",
   "execution_count": 11,
   "metadata": {},
   "outputs": [
    {
     "name": "stdout",
     "output_type": "stream",
     "text": [
      "<class 'pandas.core.series.Series'>\n",
      "RangeIndex: 101 entries, 0 to 100\n",
      "Series name: None\n",
      "Non-Null Count  Dtype\n",
      "--------------  -----\n",
      "101 non-null    bool \n",
      "dtypes: bool(1)\n",
      "memory usage: 229.0 bytes\n"
     ]
    }
   ],
   "source": [
    "# si te das cuenta df.duplicates me arroja una serie booleana False or True\n",
    "df_duplicates = df.duplicated()\n",
    "df_duplicates.info()"
   ]
  },
  {
   "cell_type": "code",
   "execution_count": 12,
   "metadata": {},
   "outputs": [
    {
     "data": {
      "text/html": [
       "<div>\n",
       "<style scoped>\n",
       "    .dataframe tbody tr th:only-of-type {\n",
       "        vertical-align: middle;\n",
       "    }\n",
       "\n",
       "    .dataframe tbody tr th {\n",
       "        vertical-align: top;\n",
       "    }\n",
       "\n",
       "    .dataframe thead th {\n",
       "        text-align: right;\n",
       "    }\n",
       "</style>\n",
       "<table border=\"1\" class=\"dataframe\">\n",
       "  <thead>\n",
       "    <tr style=\"text-align: right;\">\n",
       "      <th></th>\n",
       "      <th>id</th>\n",
       "      <th>first_name</th>\n",
       "      <th>Last_name</th>\n",
       "      <th>email</th>\n",
       "      <th>gender</th>\n",
       "      <th>product</th>\n",
       "      <th>price</th>\n",
       "      <th>quantity</th>\n",
       "      <th>fecha</th>\n",
       "      <th>ventas</th>\n",
       "      <th>mes</th>\n",
       "      <th>ano</th>\n",
       "    </tr>\n",
       "  </thead>\n",
       "  <tbody>\n",
       "  </tbody>\n",
       "</table>\n",
       "</div>"
      ],
      "text/plain": [
       "Empty DataFrame\n",
       "Columns: [id, first_name, Last_name, email, gender, product, price, quantity, fecha, ventas, mes, ano]\n",
       "Index: []"
      ]
     },
     "execution_count": 12,
     "metadata": {},
     "output_type": "execute_result"
    }
   ],
   "source": [
    "# por eso nos toca filtrar por el df primero\n",
    "df_duplicates = df[df.duplicated()]\n",
    "df_duplicates"
   ]
  },
  {
   "cell_type": "code",
   "execution_count": 13,
   "metadata": {},
   "outputs": [
    {
     "data": {
      "text/html": [
       "<div>\n",
       "<style scoped>\n",
       "    .dataframe tbody tr th:only-of-type {\n",
       "        vertical-align: middle;\n",
       "    }\n",
       "\n",
       "    .dataframe tbody tr th {\n",
       "        vertical-align: top;\n",
       "    }\n",
       "\n",
       "    .dataframe thead th {\n",
       "        text-align: right;\n",
       "    }\n",
       "</style>\n",
       "<table border=\"1\" class=\"dataframe\">\n",
       "  <thead>\n",
       "    <tr style=\"text-align: right;\">\n",
       "      <th></th>\n",
       "      <th>id</th>\n",
       "      <th>first_name</th>\n",
       "      <th>Last_name</th>\n",
       "      <th>email</th>\n",
       "      <th>gender</th>\n",
       "      <th>product</th>\n",
       "      <th>price</th>\n",
       "      <th>quantity</th>\n",
       "      <th>fecha</th>\n",
       "      <th>ventas</th>\n",
       "      <th>mes</th>\n",
       "      <th>ano</th>\n",
       "    </tr>\n",
       "  </thead>\n",
       "  <tbody>\n",
       "    <tr>\n",
       "      <th>100</th>\n",
       "      <td>103</td>\n",
       "      <td>Whit</td>\n",
       "      <td>Hayball</td>\n",
       "      <td>whayball0@spotify.com</td>\n",
       "      <td>Male</td>\n",
       "      <td>Wine-Red,Antinori Santa</td>\n",
       "      <td>899.0</td>\n",
       "      <td>1</td>\n",
       "      <td>2022-08-09</td>\n",
       "      <td>899.0</td>\n",
       "      <td>8</td>\n",
       "      <td>2022</td>\n",
       "    </tr>\n",
       "  </tbody>\n",
       "</table>\n",
       "</div>"
      ],
      "text/plain": [
       "      id first_name Last_name                  email gender  \\\n",
       "100  103       Whit   Hayball  whayball0@spotify.com   Male   \n",
       "\n",
       "                     product  price  quantity      fecha  ventas  mes   ano  \n",
       "100  Wine-Red,Antinori Santa  899.0         1 2022-08-09   899.0    8  2022  "
      ]
     },
     "execution_count": 13,
     "metadata": {},
     "output_type": "execute_result"
    }
   ],
   "source": [
    "# con subset especificamos las columnas que queremos verificar si están duplicadas\n",
    "df_duplicates = df[df.duplicated(subset=[\"first_name\",\"Last_name\",\"email\"])]\n",
    "df_duplicates"
   ]
  },
  {
   "cell_type": "markdown",
   "metadata": {},
   "source": [
    "3.  ¿Muestreme las incoherencias de las columnas product entre las tablas customers y product?"
   ]
  },
  {
   "cell_type": "code",
   "execution_count": 14,
   "metadata": {},
   "outputs": [],
   "source": [
    "# Vamos a crear otro df llamado df_2 pero esta vez de la tabla product\n",
    "Statemet_2 = \"SELECT * FROM product\""
   ]
  },
  {
   "cell_type": "code",
   "execution_count": 15,
   "metadata": {},
   "outputs": [],
   "source": [
    "cursor = connection.cursor(cursor_factory=psycopg2.extras.DictCursor)\n",
    "cursor.execute(Statemet_2)\n",
    "df_2 = cursor.fetchall()\n",
    "df_2 = pd.DataFrame(df_2)\n",
    "df_2.columns = [\"product_id\",\"product\",\"costxunit\",\"company\",\"sector\"]"
   ]
  },
  {
   "cell_type": "code",
   "execution_count": 16,
   "metadata": {},
   "outputs": [],
   "source": [
    "# eliminamos los posibles espacios vacios de ambas columnas producto de ambas tablas\n",
    "df[\"product\"] = [i.strip() for i in df[\"product\"]]\n",
    "df_2[\"product\"] = [i.strip() for i in df_2[\"product\"]]"
   ]
  },
  {
   "cell_type": "code",
   "execution_count": 17,
   "metadata": {},
   "outputs": [
    {
     "name": "stdout",
     "output_type": "stream",
     "text": [
      "48              Ecolab Silver Fusion\n",
      "64    Flour - Masa De Harina Mexican\n",
      "66               Stock - Veal, Brown\n",
      "69                  Salsify, Organic\n",
      "Name: product, dtype: object\n"
     ]
    }
   ],
   "source": [
    "# verificamos si los producto de la tabla df estan en la tabla df_2 (arroja valores booleanos)\n",
    "df[\"check\"] = df[\"product\"].isin(df_2[\"product\"])\n",
    "# si los valores booleanos de la columna check (creada anterior) son True, traigame de df la columna product\n",
    "print(df.loc[df[\"check\"] == True,\"product\"])"
   ]
  }
 ],
 "metadata": {
  "kernelspec": {
   "display_name": "Python 3.10.0 64-bit",
   "language": "python",
   "name": "python3"
  },
  "language_info": {
   "codemirror_mode": {
    "name": "ipython",
    "version": 3
   },
   "file_extension": ".py",
   "mimetype": "text/x-python",
   "name": "python",
   "nbconvert_exporter": "python",
   "pygments_lexer": "ipython3",
   "version": "3.10.0"
  },
  "orig_nbformat": 4,
  "vscode": {
   "interpreter": {
    "hash": "09cc8b7a95ccbf132467e550e87cbc92ad72620a005b419e71ec2c5180e48518"
   }
  }
 },
 "nbformat": 4,
 "nbformat_minor": 2
}
